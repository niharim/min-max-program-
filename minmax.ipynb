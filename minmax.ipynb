{
  "nbformat": 4,
  "nbformat_minor": 0,
  "metadata": {
    "colab": {
      "name": "minmax",
      "provenance": []
    },
    "kernelspec": {
      "name": "python3",
      "display_name": "Python 3"
    },
    "language_info": {
      "name": "python"
    }
  },
  "cells": [
    {
      "cell_type": "code",
      "execution_count": 3,
      "metadata": {
        "colab": {
          "base_uri": "https://localhost:8080/"
        },
        "id": "CEMTPbOLd2NK",
        "outputId": "f17f274c-61fb-4a76-8111-a81ebd4afc14"
      },
      "outputs": [
        {
          "output_type": "stream",
          "name": "stdout",
          "text": [
            "Enter number of elements as 8: 8\n",
            "3\n",
            "5\n",
            "2\n",
            "9\n",
            "12\n",
            "5\n",
            "23\n",
            "23\n",
            "The optimal value is : 12\n"
          ]
        }
      ],
      "source": [
        "\n",
        "import math\n",
        "\n",
        "def minimax (curDepth, nodeIndex,\n",
        "\t\t\tmaxTurn, scores,\n",
        "\t\t\ttargetDepth):\n",
        "\n",
        "\n",
        "\tif (curDepth == targetDepth):\n",
        "\t\treturn scores[nodeIndex]\n",
        "\t\n",
        "\tif (maxTurn):\n",
        "\t\treturn max(minimax(curDepth + 1, nodeIndex * 2,\n",
        "\t\t\t\t\tFalse, scores, targetDepth),\n",
        "\t\t\t\tminimax(curDepth + 1, nodeIndex * 2 + 1,\n",
        "\t\t\t\t\tFalse, scores, targetDepth))\n",
        "\t\n",
        "\telse:\n",
        "\t\treturn min(minimax(curDepth + 1, nodeIndex * 2,\n",
        "\t\t\t\t\tTrue, scores, targetDepth),\n",
        "\t\t\t\tminimax(curDepth + 1, nodeIndex * 2 + 1,\n",
        "\t\t\t\t\tTrue, scores, targetDepth))\n",
        "\t\n",
        "scores = []\n",
        " \n",
        "\n",
        "n = int(input(\"Enter number of elements as 8: \"))\n",
        " \n",
        "\n",
        "for i in range(0, n):\n",
        "    ele = int(input())\n",
        " \n",
        "    scores.append(ele)\n",
        "\n",
        "\n",
        "treeDepth = math.log(len(scores), 2)\n",
        "\n",
        "print(\"The optimal value is : \", end = \"\")\n",
        "print(minimax(0, 0, True, scores, treeDepth))\n"
      ]
    }
  ]
}